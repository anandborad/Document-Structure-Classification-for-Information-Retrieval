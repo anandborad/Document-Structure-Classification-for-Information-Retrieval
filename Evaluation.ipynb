{
 "cells": [
  {
   "cell_type": "code",
   "execution_count": 1,
   "metadata": {},
   "outputs": [
    {
     "name": "stdout",
     "output_type": "stream",
     "text": [
      "D:\\AAIC\\cs2\\efficientnet_keras_transfer_learning\n"
     ]
    }
   ],
   "source": [
    "%cd efficientnet_keras_transfer_learning/"
   ]
  },
  {
   "cell_type": "code",
   "execution_count": 2,
   "metadata": {},
   "outputs": [
    {
     "name": "stderr",
     "output_type": "stream",
     "text": [
      "Using TensorFlow backend.\n"
     ]
    },
    {
     "name": "stdout",
     "output_type": "stream",
     "text": [
      "D:\\AAIC\\cs2\n"
     ]
    }
   ],
   "source": [
    "from efficientnet import EfficientNetB3 as ENet3b\n",
    "%cd ../"
   ]
  },
  {
   "cell_type": "code",
   "execution_count": 3,
   "metadata": {},
   "outputs": [],
   "source": [
    "from tensorflow.keras.layers import Dense, BatchNormalization, Dropout\n",
    "from tensorflow.keras.regularizers import l2\n",
    "from tensorflow.keras.models import  Model\n",
    "from tensorflow.keras.optimizers import RMSprop, Adam"
   ]
  },
  {
   "cell_type": "code",
   "execution_count": 4,
   "metadata": {},
   "outputs": [
    {
     "name": "stdout",
     "output_type": "stream",
     "text": [
      "WARNING:tensorflow:From C:\\Users\\91814\\Anaconda3\\lib\\site-packages\\tensorflow\\python\\framework\\function.py:988: calling Graph.create_op (from tensorflow.python.framework.ops) with compute_shapes is deprecated and will be removed in a future version.\n",
      "Instructions for updating:\n",
      "Shapes are always computed; don't use the compute_shapes as it has no effect.\n"
     ]
    }
   ],
   "source": [
    "img_width, img_height = 300,300\n",
    "batch_size = 8\n",
    "\n",
    "model = ENet3b(weights=\"imagenet\", include_top=False, input_shape=(img_width, img_height, 3), pooling='avg')\n",
    "\n",
    "\n",
    "x = model.output\n",
    "x = BatchNormalization()(x)\n",
    "x = Dropout(0.75)(x)\n",
    "x = Dense(256, activation=\"relu\")(x)\n",
    "x = BatchNormalization()(x)\n",
    "x = Dropout(0.25)(x)\n",
    "predictions = Dense(16, activation=\"softmax\")(x)\n",
    "\n",
    "# creating the final model \n",
    "model_final = Model(inputs = model.input, outputs = predictions)\n",
    "\n",
    "# compile the model \n",
    "model_final.compile(loss = \"categorical_crossentropy\", optimizer= Adam(0.0003), metrics=[\"accuracy\"])\n",
    "\n",
    "model_final.load_weights('HDF5/DocClassification_TL-B3_07.hdf5')"
   ]
  },
  {
   "cell_type": "code",
   "execution_count": 5,
   "metadata": {},
   "outputs": [],
   "source": [
    "from os import path\n",
    "from keras.preprocessing.image import ImageDataGenerator\n",
    "def final_model(folder, stps):\n",
    "    \"\"\"Given a path to a document drectory, returns accuracy.\n",
    "    path: path to directory where documents are arranged in 16 folders named\n",
    "          0 to 15 based on category\n",
    "    \"\"\"\n",
    "    datagen = ImageDataGenerator(rescale=1. / 255)\n",
    "    \n",
    "    img_generator = datagen.flow_from_directory(\n",
    "                folder,\n",
    "                target_size=(img_width, img_height),\n",
    "                color_mode='rgb',\n",
    "                batch_size=64,\n",
    "                class_mode='categorical')\n",
    "    \n",
    "    pred = model_final.evaluate_generator(img_generator,steps=stps//64,verbose=0)\n",
    "    \n",
    "    return pred[1]*100"
   ]
  },
  {
   "cell_type": "code",
   "execution_count": 6,
   "metadata": {
    "scrolled": true
   },
   "outputs": [
    {
     "name": "stdout",
     "output_type": "stream",
     "text": [
      "Found 319835 images belonging to 16 classes.\n",
      "Found 39995 images belonging to 16 classes.\n",
      "Found 39996 images belonging to 16 classes.\n"
     ]
    }
   ],
   "source": [
    "train_acc=final_model('traindata/',319835)\n",
    "val_acc=final_model('valdata/',39995)\n",
    "test_acc=final_model('testdata/', 39995)\n"
   ]
  },
  {
   "cell_type": "code",
   "execution_count": 7,
   "metadata": {},
   "outputs": [
    {
     "name": "stdout",
     "output_type": "stream",
     "text": [
      "Accuracy on train data: 95.44%\n",
      "Accuracy on validation data: 91.40%\n",
      "Accuracy on test data: 91.17%\n"
     ]
    }
   ],
   "source": [
    "print(\"Accuracy on train data: {0:.2f}%\".format(train_acc))\n",
    "print(\"Accuracy on validation data: {0:.2f}%\".format(val_acc))\n",
    "print(\"Accuracy on test data: {0:.2f}%\".format(test_acc))"
   ]
  },
  {
   "cell_type": "code",
   "execution_count": null,
   "metadata": {},
   "outputs": [],
   "source": []
  }
 ],
 "metadata": {
  "kernelspec": {
   "display_name": "Python 3",
   "language": "python",
   "name": "python3"
  },
  "language_info": {
   "codemirror_mode": {
    "name": "ipython",
    "version": 3
   },
   "file_extension": ".py",
   "mimetype": "text/x-python",
   "name": "python",
   "nbconvert_exporter": "python",
   "pygments_lexer": "ipython3",
   "version": "3.8.1"
  }
 },
 "nbformat": 4,
 "nbformat_minor": 2
}
